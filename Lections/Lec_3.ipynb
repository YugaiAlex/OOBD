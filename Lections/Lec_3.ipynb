{
 "cells": [
  {
   "cell_type": "markdown",
   "id": "1dde6e02-9078-45b7-bff5-dce50ef890db",
   "metadata": {},
   "source": [
    "<h3>Лекция 3<h3>\n",
    "\n",
    "Агрегатные функции, вложенные запросы, запросы, соединения, ограничения constraint"
   ]
  },
  {
   "cell_type": "markdown",
   "id": "d2edf717-9935-4435-8004-4d1f84cdfda0",
   "metadata": {},
   "source": [
    "<b>Агрегатные функции<b>"
   ]
  },
  {
   "cell_type": "markdown",
   "id": "996abecb-10fa-4d18-8797-a43ac1b40393",
   "metadata": {},
   "source": [
    "Агрегатные функции в PostgreSQL (pgAdmin 4)"
   ]
  },
  {
   "cell_type": "markdown",
   "id": "9c9e11b1-3356-4b9b-9b6d-b356a5919e40",
   "metadata": {},
   "source": [
    "Агрегатные функции выполняют вычисления над группами строк и возвращают одно значение. Они часто используются с GROUP BY для группировки данных."
   ]
  },
  {
   "cell_type": "markdown",
   "id": "a8b9e1d5-6e7b-43d3-9fdd-84a51ca2aa16",
   "metadata": {},
   "source": [
    "<b>Основные агрегатные функции<b>"
   ]
  },
  {
   "cell_type": "markdown",
   "id": "8bb893c9-7d7c-476d-8525-a937eeb5260e",
   "metadata": {},
   "source": [
    "1) COUNT() – Подсчет строк"
   ]
  },
  {
   "cell_type": "markdown",
   "id": "a0ac34f6-cfaa-4a5b-ba0d-88bdd0ed3f24",
   "metadata": {},
   "source": [
    "Возвращает количество строк в наборе данных."
   ]
  },
  {
   "cell_type": "code",
   "execution_count": null,
   "id": "7d0b15de-5287-4dd2-9938-9746fddbc9d3",
   "metadata": {},
   "outputs": [],
   "source": [
    "SELECT COUNT(*) FROM employees;\n",
    "SELECT COUNT(salary) FROM employees WHERE department = 'IT';"
   ]
  },
  {
   "cell_type": "markdown",
   "id": "72eb89d5-dfd5-4099-aa87-afd8bb408cf1",
   "metadata": {},
   "source": [
    "Если указано COUNT(column), NULL-значения не учитываются."
   ]
  },
  {
   "cell_type": "markdown",
   "id": "477e9fb0-8479-453d-a122-6171b91f5b6b",
   "metadata": {},
   "source": [
    "2) SUM() – Сумма значений"
   ]
  },
  {
   "cell_type": "markdown",
   "id": "d82a8bc7-b684-4388-bcbd-3b5697e2f9c8",
   "metadata": {},
   "source": [
    "Вычисляет сумму числовых значений в столбце."
   ]
  },
  {
   "cell_type": "code",
   "execution_count": null,
   "id": "08080a87-f58d-4849-85c9-dfe581f725e9",
   "metadata": {},
   "outputs": [],
   "source": [
    "SELECT SUM(salary) FROM employees WHERE department = 'Sales';"
   ]
  },
  {
   "cell_type": "markdown",
   "id": "557901b3-c43f-4f54-a691-6bf3418ea644",
   "metadata": {},
   "source": [
    "3) AVG() – Среднее значение"
   ]
  },
  {
   "cell_type": "markdown",
   "id": "f41c44f9-4b8e-4a60-aeed-aac9bb10697d",
   "metadata": {},
   "source": [
    "Возвращает среднее арифметическое числового столбца."
   ]
  },
  {
   "cell_type": "code",
   "execution_count": null,
   "id": "bed17b00-1e01-47f8-8014-c7a7f27512f3",
   "metadata": {},
   "outputs": [],
   "source": [
    "SELECT AVG(salary) FROM employees;"
   ]
  },
  {
   "cell_type": "markdown",
   "id": "2675a51e-40fe-4ecf-8369-c5b10abd4a68",
   "metadata": {},
   "source": [
    "4) MIN() – Минимальное значение"
   ]
  },
  {
   "cell_type": "markdown",
   "id": "e276be5b-0047-4da5-a104-095ee9d33b55",
   "metadata": {},
   "source": [
    "Возвращает наименьшее значение в столбце."
   ]
  },
  {
   "cell_type": "code",
   "execution_count": null,
   "id": "7a04900f-cfa9-4384-ba08-9516b3ecdf25",
   "metadata": {},
   "outputs": [],
   "source": [
    "SELECT MIN(salary) FROM employees;"
   ]
  },
  {
   "cell_type": "markdown",
   "id": "28ec8eff-dbc7-4c51-9574-128a5c18f175",
   "metadata": {},
   "source": [
    "5) MAX() – Максимальное значение"
   ]
  },
  {
   "cell_type": "markdown",
   "id": "570c6cba-4b76-4b8f-813e-14070147e4e8",
   "metadata": {},
   "source": [
    "Возвращает наибольшее значение в столбце."
   ]
  },
  {
   "cell_type": "code",
   "execution_count": null,
   "id": "ce473780-7e36-4afb-9a69-23a2ce53d362",
   "metadata": {},
   "outputs": [],
   "source": [
    "SELECT MAX(salary) FROM employees;"
   ]
  },
  {
   "cell_type": "markdown",
   "id": "3d45e414-4a4c-40d4-b58e-f03b9a6d07e9",
   "metadata": {},
   "source": [
    "<b>Дополнительные агрегатные функции<b>"
   ]
  },
  {
   "cell_type": "markdown",
   "id": "50945c7d-c002-48ed-b394-a7cc724e69be",
   "metadata": {},
   "source": [
    "6) STRING_AGG() – Объединение строк"
   ]
  },
  {
   "cell_type": "markdown",
   "id": "d7067756-72c2-4f31-a0cf-de003cd8aebd",
   "metadata": {},
   "source": [
    "Объединяет строки в одну с указанным разделителем."
   ]
  },
  {
   "cell_type": "code",
   "execution_count": null,
   "id": "84b19fe7-1e20-43c6-b890-7878205d27e4",
   "metadata": {},
   "outputs": [],
   "source": [
    "SELECT STRING_AGG(name, ', ') FROM employees;"
   ]
  },
  {
   "cell_type": "markdown",
   "id": "351b41aa-c0c1-4793-9b78-b15802348023",
   "metadata": {},
   "source": [
    "7) ARRAY_AGG() – Создание массива"
   ]
  },
  {
   "cell_type": "markdown",
   "id": "a996ad9b-9e2c-48d0-9c90-f9ed0cda33c7",
   "metadata": {},
   "source": [
    "Группирует значения в массив."
   ]
  },
  {
   "cell_type": "code",
   "execution_count": null,
   "id": "d42f4f61-8e91-4a25-9510-5ee34303d196",
   "metadata": {},
   "outputs": [],
   "source": [
    "SELECT ARRAY_AGG(salary) FROM employees;"
   ]
  },
  {
   "cell_type": "markdown",
   "id": "2d1a9b53-a836-4bb2-924b-e6c75c2dac05",
   "metadata": {},
   "source": [
    "8) JSON_AGG() – Группировка в JSON"
   ]
  },
  {
   "cell_type": "markdown",
   "id": "b572d398-64eb-4587-846e-5caba65ba64f",
   "metadata": {},
   "source": [
    "SELECT JSON_AGG(row_to_json(employees)) FROM employees;"
   ]
  },
  {
   "cell_type": "markdown",
   "id": "c730a5ff-37b2-4ea2-b4d1-6f91059c7c91",
   "metadata": {},
   "source": [
    "<h3>Вложенные запросы<h3>"
   ]
  },
  {
   "cell_type": "markdown",
   "id": "fdf6e995-2f14-4aa3-96c0-aae33211b17d",
   "metadata": {},
   "source": [
    "<b>Вложенные запросы (Subqueries) в PostgreSQL (pgAdmin 4)<b>"
   ]
  },
  {
   "cell_type": "markdown",
   "id": "e5c720e1-8249-4546-8739-e3ff63049c12",
   "metadata": {},
   "source": [
    "Вложенные запросы – это SQL-запросы, которые выполняются внутри других запросов. Они используются, когда нужно сначала получить промежуточные данные, а затем использовать их в основном запросе."
   ]
  },
  {
   "cell_type": "markdown",
   "id": "b1362bce-fc2c-4c6f-8af2-6590be80e7df",
   "metadata": {},
   "source": [
    "<b> Виды вложенных запросов<b>"
   ]
  },
  {
   "cell_type": "markdown",
   "id": "da38f72a-71e4-413b-92d9-ba8d00dc44dc",
   "metadata": {},
   "source": [
    "1) Вложенные запросы в WHERE"
   ]
  },
  {
   "cell_type": "markdown",
   "id": "2ef1967c-e0c3-4bea-9644-d53bac003953",
   "metadata": {},
   "source": [
    "Используются для фильтрации данных на основе результатов другого запроса.\n",
    "\n",
    "Пример: Вывести всех сотрудников, у которых зарплата выше средней."
   ]
  },
  {
   "cell_type": "code",
   "execution_count": null,
   "id": "6c23701d-0386-4636-ad96-003ebf72eb9d",
   "metadata": {},
   "outputs": [],
   "source": [
    "SELECT name, salary \n",
    "FROM employees \n",
    "WHERE salary > (SELECT AVG(salary) FROM employees);"
   ]
  },
  {
   "cell_type": "markdown",
   "id": "01a7cff2-1ecc-4566-892b-143f0a03a44f",
   "metadata": {},
   "source": [
    "2) Вложенные запросы в FROM (Derived Tables, Подзапросы в FROM)"
   ]
  },
  {
   "cell_type": "markdown",
   "id": "8423a346-bb6f-4f2f-a526-cc8388d258c0",
   "metadata": {},
   "source": [
    "Позволяют создавать временные таблицы внутри запроса.\n",
    "\n",
    "Пример: Найти среднюю зарплату по каждому отделу и вывести отделы с зарплатой выше 50,000."
   ]
  },
  {
   "cell_type": "code",
   "execution_count": null,
   "id": "3e10c74a-6411-49a1-9a56-1e23f2d27b84",
   "metadata": {},
   "outputs": [],
   "source": [
    "SELECT department, avg_salary \n",
    "FROM (SELECT department, AVG(salary) AS avg_salary \n",
    "      FROM employees \n",
    "      GROUP BY department) AS salary_table\n",
    "WHERE avg_salary > 50000;"
   ]
  },
  {
   "cell_type": "markdown",
   "id": "8a57e870-4aad-48ac-94bc-8ac62a35bc05",
   "metadata": {},
   "source": [
    "3) Вложенные запросы в SELECT"
   ]
  },
  {
   "cell_type": "markdown",
   "id": "72ba0b19-f9ed-454e-8942-9d33f700ca4c",
   "metadata": {},
   "source": [
    "Позволяют вычислять дополнительные значения в выборке.\n",
    "\n",
    "Пример: Вывести имя сотрудника и его зарплату вместе с максимальной зарплатой в компании."
   ]
  },
  {
   "cell_type": "code",
   "execution_count": null,
   "id": "9bee5d59-3663-48d0-bd35-dd4ead217646",
   "metadata": {},
   "outputs": [],
   "source": [
    "SELECT name, salary, \n",
    "       (SELECT MAX(salary) FROM employees) AS max_salary \n",
    "FROM employees;"
   ]
  },
  {
   "cell_type": "markdown",
   "id": "26264356-8fa3-4f66-b913-4fa2f9da06cc",
   "metadata": {},
   "source": [
    "4) Вложенные запросы с EXISTS"
   ]
  },
  {
   "cell_type": "markdown",
   "id": "c2fc0f69-0f8a-46a6-9978-689e3973497a",
   "metadata": {},
   "source": [
    "Используются для проверки наличия строк в подзапросе.\n",
    "\n",
    "Пример: Найти сотрудников, работающих в отделах, где есть менеджеры."
   ]
  },
  {
   "cell_type": "markdown",
   "id": "ae3c9184-6633-454c-88ca-09366486b6da",
   "metadata": {},
   "source": [
    "SELECT name \n",
    "FROM employees e \n",
    "WHERE EXISTS (SELECT 1 FROM employees m \n",
    "              WHERE m.department = e.department AND m.position = 'Manager');"
   ]
  },
  {
   "cell_type": "markdown",
   "id": "6aa152d5-51b5-4f08-abf5-ecf3d1f52c30",
   "metadata": {},
   "source": [
    "5) Вложенные запросы с IN"
   ]
  },
  {
   "cell_type": "markdown",
   "id": "00e22ac7-12e6-4d2e-b8e5-ed311b775340",
   "metadata": {},
   "source": [
    "Используются, когда нужно проверить, находится ли значение в списке.\n",
    "\n",
    "Пример: Найти сотрудников, работающих в тех же отделах, что и \"Alice\"."
   ]
  },
  {
   "cell_type": "code",
   "execution_count": null,
   "id": "1da2436c-c9ac-4368-bf80-2831efc6481e",
   "metadata": {},
   "outputs": [],
   "source": [
    "SELECT name \n",
    "FROM employees \n",
    "WHERE department IN (SELECT department \n",
    "                     FROM employees \n",
    "                     WHERE name = 'Alice');"
   ]
  },
  {
   "cell_type": "markdown",
   "id": "6f3749b8-2d27-49f2-87c2-5223d15d6aa5",
   "metadata": {},
   "source": [
    "6) Вложенные запросы с ANY и ALL"
   ]
  },
  {
   "cell_type": "markdown",
   "id": "be1749c9-d7f8-436b-a838-50b7b96c25ef",
   "metadata": {},
   "source": [
    "Используются для сравнений с несколькими значениями.\n",
    "\n",
    "Пример (использование ANY): Вывести сотрудников, у которых зарплата выше, чем у хотя бы одного сотрудника из отдела 'IT'."
   ]
  },
  {
   "cell_type": "code",
   "execution_count": null,
   "id": "4ac840fd-ee07-4e12-a76a-e974adf31ad5",
   "metadata": {},
   "outputs": [],
   "source": [
    "SELECT name, salary \n",
    "FROM employees \n",
    "WHERE salary > ANY (SELECT salary FROM employees WHERE department = 'IT');"
   ]
  },
  {
   "cell_type": "markdown",
   "id": "3f6138bb-070c-4c77-b020-4376b65f82a7",
   "metadata": {},
   "source": [
    "Пример (использование ALL): Вывести сотрудников, у которых зарплата выше, чем у всех сотрудников из отдела 'IT'."
   ]
  },
  {
   "cell_type": "code",
   "execution_count": null,
   "id": "e2d15266-9232-40df-8d75-b609c433e854",
   "metadata": {},
   "outputs": [],
   "source": [
    "SELECT name, salary \n",
    "FROM employees \n",
    "WHERE salary > ALL (SELECT salary FROM employees WHERE department = 'IT');"
   ]
  },
  {
   "cell_type": "markdown",
   "id": "89e8f4ca-70d5-4f12-850b-e19bae7fabff",
   "metadata": {},
   "source": [
    "<h3>Соединения (JOIN) в PostgreSQL (pgAdmin 4)<h3>"
   ]
  },
  {
   "cell_type": "markdown",
   "id": "c477bf75-797b-43c2-b131-36fab1d3cee9",
   "metadata": {},
   "source": [
    "JOIN используется для объединения данных из нескольких таблиц на основе связанных между ними столбцов. Это позволяет работать с реляционными базами данных эффективно."
   ]
  },
  {
   "cell_type": "markdown",
   "id": "c1a9cd19-875b-42be-a096-2bf355a692f6",
   "metadata": {},
   "source": [
    "<b> Виды соединений (JOIN) в PostgreSQL<b>"
   ]
  },
  {
   "cell_type": "markdown",
   "id": "10717f0b-e46a-498e-92de-327867a2a75d",
   "metadata": {},
   "source": [
    "1) INNER JOIN (Внутреннее соединение)"
   ]
  },
  {
   "cell_type": "markdown",
   "id": "3ef63558-c7d9-44c0-9791-aa2de497ab1d",
   "metadata": {},
   "source": [
    "Возвращает только те строки, у которых есть соответствие в обеих таблицах.\n",
    "\n",
    "Пример: Найти всех сотрудников и их отделы."
   ]
  },
  {
   "cell_type": "code",
   "execution_count": null,
   "id": "5eedbd83-f60e-4b1c-872d-bdda5d844640",
   "metadata": {},
   "outputs": [],
   "source": [
    "SELECT employees.name, employees.salary, departments.department_name\n",
    "FROM employees\n",
    "INNER JOIN departments ON employees.department_id = departments.id;"
   ]
  },
  {
   "cell_type": "markdown",
   "id": "fd1bc778-bb95-44b1-beb5-e98679ec4cc3",
   "metadata": {},
   "source": [
    "Только те сотрудники, у которых есть соответствующий отдел в departments."
   ]
  },
  {
   "cell_type": "markdown",
   "id": "1575e466-b557-42a7-b0b3-0ddb3636621b",
   "metadata": {},
   "source": [
    "2) LEFT JOIN (Левое соединение)"
   ]
  },
  {
   "cell_type": "markdown",
   "id": "f360af23-cef6-4118-98c0-58ee9116906f",
   "metadata": {},
   "source": [
    "Возвращает все строки из левой таблицы и только совпадающие строки из правой.\n",
    "\n",
    "Пример: Вывести всех сотрудников, даже если у них нет отдела."
   ]
  },
  {
   "cell_type": "code",
   "execution_count": null,
   "id": "6f1ebfc8-6228-429a-914d-733c4cec3a4f",
   "metadata": {},
   "outputs": [],
   "source": [
    "SELECT employees.name, employees.salary, departments.department_name\n",
    "FROM employees\n",
    "LEFT JOIN departments ON employees.department_id = departments.id;"
   ]
  },
  {
   "cell_type": "markdown",
   "id": "63e1d369-65b3-4662-8509-ae18135d76c0",
   "metadata": {},
   "source": [
    "Если у сотрудника нет отдела, department_name будет NULL."
   ]
  },
  {
   "cell_type": "markdown",
   "id": "3838a732-eac2-4ff2-a6c5-646e5b2c086e",
   "metadata": {},
   "source": [
    "3) RIGHT JOIN (Правое соединение)"
   ]
  },
  {
   "cell_type": "markdown",
   "id": "240acead-406f-4aab-ae39-90e5705054bc",
   "metadata": {},
   "source": [
    "Возвращает все строки из правой таблицы и только совпадающие строки из левой.\n",
    "\n",
    "Пример: Вывести все отделы и их сотрудников (даже если в отделе нет сотрудников)."
   ]
  },
  {
   "cell_type": "code",
   "execution_count": null,
   "id": "1b8e237d-0667-4e7f-9893-11e2b40f1504",
   "metadata": {},
   "outputs": [],
   "source": [
    "SELECT employees.name, employees.salary, departments.department_name\n",
    "FROM employees\n",
    "RIGHT JOIN departments ON employees.department_id = departments.id;"
   ]
  },
  {
   "cell_type": "markdown",
   "id": "a1e9a1d2-9191-49c1-bb60-cb3e871e5b9f",
   "metadata": {},
   "source": [
    "Если в отделе нет сотрудников, name и salary будут NULL."
   ]
  },
  {
   "cell_type": "code",
   "execution_count": null,
   "id": "c124274f-1fb0-470a-a723-098de9259c70",
   "metadata": {},
   "outputs": [],
   "source": [
    "4) FULL JOIN (Полное соединение)"
   ]
  },
  {
   "cell_type": "markdown",
   "id": "4b6880ab-ced9-4545-b3c7-130eb2564c4b",
   "metadata": {},
   "source": [
    "Возвращает все строки из обеих таблиц, заполняя NULL, если совпадения нет.\n",
    "\n",
    "Пример: Вывести всех сотрудников и отделы, даже если у них нет соответствия."
   ]
  },
  {
   "cell_type": "code",
   "execution_count": null,
   "id": "fb584741-9d94-468d-9026-8b6f31c2a3f2",
   "metadata": {},
   "outputs": [],
   "source": [
    "SELECT employees.name, employees.salary, departments.department_name\n",
    "FROM employees\n",
    "FULL JOIN departments ON employees.department_id = departments.id;"
   ]
  },
  {
   "cell_type": "markdown",
   "id": "3701959b-cb84-4649-8c4b-167760a8a686",
   "metadata": {},
   "source": [
    "Если у сотрудника нет отдела или у отдела нет сотрудников, в соответствующих колонках будет NULL."
   ]
  },
  {
   "cell_type": "markdown",
   "id": "8d888c34-2e7c-4444-bac1-45b0ef949017",
   "metadata": {},
   "source": [
    "5) CROSS JOIN (Декартово произведение)"
   ]
  },
  {
   "cell_type": "markdown",
   "id": "e2be1dc9-94bc-40b9-8d6c-99c0e552b614",
   "metadata": {},
   "source": [
    "Объединяет каждую строку из первой таблицы с каждой строкой из второй.\n",
    "\n",
    "Пример: Перебрать все возможные комбинации сотрудников и отделов."
   ]
  },
  {
   "cell_type": "code",
   "execution_count": null,
   "id": "6935adae-ac9f-4940-827f-caf2510428de",
   "metadata": {},
   "outputs": [],
   "source": [
    "SELECT employees.name, departments.department_name\n",
    "FROM employees\n",
    "CROSS JOIN departments;"
   ]
  },
  {
   "cell_type": "markdown",
   "id": "b3ac6b17-7fe5-48c8-b47b-7eb2090cce8a",
   "metadata": {},
   "source": [
    "Если в employees 5 строк, а в departments 3, результат будет 5 × 3 = 15 строк."
   ]
  },
  {
   "cell_type": "markdown",
   "id": "db8a1810-fa1f-4665-8e5d-cdfc321808a1",
   "metadata": {},
   "source": [
    "6) SELF JOIN (Самосоединение)"
   ]
  },
  {
   "cell_type": "markdown",
   "id": "7a357108-260c-4918-87b0-cf7ae15dadc8",
   "metadata": {},
   "source": [
    "Используется, когда таблицу нужно соединить саму с собой.\n",
    "\n",
    "Пример: Найти сотрудников и их менеджеров."
   ]
  },
  {
   "cell_type": "code",
   "execution_count": null,
   "id": "a97516e8-a7ff-43f2-8d68-f9bf058c844b",
   "metadata": {},
   "outputs": [],
   "source": [
    "SELECT e1.name AS employee, e2.name AS manager\n",
    "FROM employees e1\n",
    "LEFT JOIN employees e2 ON e1.manager_id = e2.id;"
   ]
  },
  {
   "cell_type": "markdown",
   "id": "67106ae6-1413-4592-b378-e4829720b20e",
   "metadata": {},
   "source": [
    "Если у сотрудника нет менеджера, manager будет NULL."
   ]
  },
  {
   "cell_type": "markdown",
   "id": "8312b40d-1485-4c99-812f-daa0f095285c",
   "metadata": {},
   "source": [
    "<h3>Ограничения constraint<h3>"
   ]
  },
  {
   "cell_type": "markdown",
   "id": "e8ae5cbb-4e3f-4fc3-8bfc-922c6e797ef0",
   "metadata": {},
   "source": [
    "<b>Ограничения (CONSTRAINT) в PostgreSQL (pgAdmin 4)<b>"
   ]
  },
  {
   "cell_type": "markdown",
   "id": "2663f80f-4a77-4fe1-9ed5-650f46f2b97f",
   "metadata": {},
   "source": [
    "Ограничения (CONSTRAINT) в PostgreSQL используются для обеспечения целостности и корректности данных в таблице. Они помогают предотвратить некорректные вставки, обновления и удаления данных."
   ]
  },
  {
   "cell_type": "markdown",
   "id": "ecbec2e2-8ed0-46f0-82bf-6e1cf93c863f",
   "metadata": {},
   "source": [
    "Основные ограничения в PostgreSQL"
   ]
  },
  {
   "cell_type": "markdown",
   "id": "1dd71e2d-98fa-4721-b33c-d05025bf5a59",
   "metadata": {},
   "source": [
    "1) PRIMARY KEY (Первичный ключ)"
   ]
  },
  {
   "cell_type": "markdown",
   "id": "ebd6b6e0-fbc6-4e0c-9509-c9b6abadce37",
   "metadata": {},
   "source": [
    "Гарантирует уникальность значений в столбце и автоматически создаёт индекс.\n",
    "\n",
    "Пример:"
   ]
  },
  {
   "cell_type": "code",
   "execution_count": null,
   "id": "c1c018f3-1b7b-4e25-9ab4-598c1d8fa6bd",
   "metadata": {},
   "outputs": [],
   "source": [
    "CREATE TABLE employees (\n",
    "    id SERIAL PRIMARY KEY,\n",
    "    name VARCHAR(100) NOT NULL,\n",
    "    salary NUMERIC(10,2)\n",
    ");"
   ]
  },
  {
   "cell_type": "markdown",
   "id": "1a67065e-e0ff-457c-9566-e8b64bd910ea",
   "metadata": {},
   "source": [
    "Ограничение PRIMARY KEY означает, что id уникален и не может быть NULL."
   ]
  },
  {
   "cell_type": "markdown",
   "id": "585d5c54-cbb3-41a1-8195-e69296bcfb2c",
   "metadata": {},
   "source": [
    "2) FOREIGN KEY (Внешний ключ)"
   ]
  },
  {
   "cell_type": "markdown",
   "id": "2ce458f4-d030-4081-bb8f-421827d9de3a",
   "metadata": {},
   "source": [
    "Обеспечивает связь между таблицами и поддерживает ссылочную целостность.\n",
    "\n",
    "Пример:"
   ]
  },
  {
   "cell_type": "code",
   "execution_count": null,
   "id": "8da8ef9c-f746-49b1-8a29-5b911065f2e2",
   "metadata": {},
   "outputs": [],
   "source": [
    "CREATE TABLE departments (\n",
    "    id SERIAL PRIMARY KEY,\n",
    "    department_name VARCHAR(100) NOT NULL\n",
    ");\n",
    "\n",
    "CREATE TABLE employees (\n",
    "    id SERIAL PRIMARY KEY,\n",
    "    name VARCHAR(100) NOT NULL,\n",
    "    department_id INT REFERENCES departments(id) ON DELETE CASCADE\n",
    ");"
   ]
  },
  {
   "cell_type": "markdown",
   "id": "1d522a35-189a-4e46-b1dd-1b4a4e30a496",
   "metadata": {},
   "source": [
    "Если удалить отдел, все связанные сотрудники также удалятся (ON DELETE CASCADE)."
   ]
  },
  {
   "cell_type": "markdown",
   "id": "f85814e5-83d0-422d-bc9c-1ee0e71e41f8",
   "metadata": {},
   "source": [
    "3) NOT NULL (Запрещает NULL)"
   ]
  },
  {
   "cell_type": "markdown",
   "id": "a59a018b-39d2-488e-a5a1-2cac2743fbb4",
   "metadata": {},
   "source": [
    "Гарантирует, что столбец не может содержать NULL.\n",
    "\n",
    "Пример:"
   ]
  },
  {
   "cell_type": "code",
   "execution_count": null,
   "id": "aec02f49-1793-4900-aadb-d31e20299775",
   "metadata": {},
   "outputs": [],
   "source": [
    "CREATE TABLE products (\n",
    "    id SERIAL PRIMARY KEY,\n",
    "    name VARCHAR(100) NOT NULL,\n",
    "    price NUMERIC(10,2) NOT NULL\n",
    ");"
   ]
  },
  {
   "cell_type": "markdown",
   "id": "7b64997b-250b-418a-bb37-9c438488dd76",
   "metadata": {},
   "source": [
    "Столбцы name и price всегда должны иметь значение."
   ]
  },
  {
   "cell_type": "markdown",
   "id": "0ced670a-2985-4bbd-9e64-e6fea05a9828",
   "metadata": {},
   "source": [
    "4) UNIQUE (Уникальные значения в столбце)"
   ]
  },
  {
   "cell_type": "markdown",
   "id": "a5bb3d12-f0f0-4720-802c-755c6f79ddcd",
   "metadata": {},
   "source": [
    "Запрещает дублирующиеся значения в указанном столбце.\n",
    "\n",
    "Пример:"
   ]
  },
  {
   "cell_type": "code",
   "execution_count": null,
   "id": "4a46305b-e488-4ed5-b6f5-33e525147702",
   "metadata": {},
   "outputs": [],
   "source": [
    "CREATE TABLE users (\n",
    "    id SERIAL PRIMARY KEY,\n",
    "    email VARCHAR(255) UNIQUE NOT NULL\n",
    ");"
   ]
  },
  {
   "cell_type": "markdown",
   "id": "4ecd2daf-30d7-4343-ba29-12f72f45c419",
   "metadata": {},
   "source": [
    "Два пользователя не могут иметь одинаковый email."
   ]
  },
  {
   "cell_type": "markdown",
   "id": "85dafa9d-f1e8-4181-be3a-98944ac0650a",
   "metadata": {},
   "source": [
    "5) CHECK (Проверка условий)"
   ]
  },
  {
   "cell_type": "markdown",
   "id": "597724c7-f2c2-483f-862d-0ef3d5de8676",
   "metadata": {},
   "source": [
    "Позволяет задать условие для значений в столбце.\n",
    "\n",
    "Пример:"
   ]
  },
  {
   "cell_type": "code",
   "execution_count": null,
   "id": "3111856c-e9db-4d67-bf24-f922c84220cb",
   "metadata": {},
   "outputs": [],
   "source": [
    "CREATE TABLE employees (\n",
    "    id SERIAL PRIMARY KEY,\n",
    "    name VARCHAR(100) NOT NULL,\n",
    "    salary NUMERIC(10,2) CHECK (salary > 0)\n",
    ");"
   ]
  },
  {
   "cell_type": "markdown",
   "id": "db44f214-3504-4cb1-b3d6-4d650e4adb85",
   "metadata": {},
   "source": [
    "Сотрудник не может иметь отрицательную зарплату."
   ]
  },
  {
   "cell_type": "markdown",
   "id": "a61e7c62-449b-47b0-8963-b2c7b9247333",
   "metadata": {},
   "source": [
    "6) DEFAULT (Значение по умолчанию)"
   ]
  },
  {
   "cell_type": "markdown",
   "id": "cbfa2cf3-dd2a-41e6-9ebe-62a9b86fe6aa",
   "metadata": {},
   "source": [
    "Устанавливает значение по умолчанию, если оно не указано.\n",
    "\n",
    "Пример:"
   ]
  },
  {
   "cell_type": "code",
   "execution_count": null,
   "id": "d7b4df21-6877-4e31-96ed-7334e23186c5",
   "metadata": {},
   "outputs": [],
   "source": [
    "CREATE TABLE orders (\n",
    "    id SERIAL PRIMARY KEY,\n",
    "    status VARCHAR(20) DEFAULT 'Pending'\n",
    ");"
   ]
  },
  {
   "cell_type": "markdown",
   "id": "a533fe3b-b6e8-4d7b-a981-4839941030cd",
   "metadata": {},
   "source": [
    "Если при добавлении заказа не указать статус, он будет Pending."
   ]
  },
  {
   "cell_type": "markdown",
   "id": "1e658287-a7f2-40e9-a10c-8ad4367c2490",
   "metadata": {},
   "source": [
    "7) EXCLUSION (Исключающее ограничение)"
   ]
  },
  {
   "cell_type": "markdown",
   "id": "5ca8c5a0-45d1-436f-abde-ccdae8e04809",
   "metadata": {},
   "source": [
    "Используется для предотвращения пересекающихся значений.\n",
    "\n",
    "Пример (уникальные временные интервалы):"
   ]
  },
  {
   "cell_type": "code",
   "execution_count": null,
   "id": "5bb71348-9513-4439-8ae8-74beb8d15ceb",
   "metadata": {},
   "outputs": [],
   "source": [
    "CREATE TABLE room_booking (\n",
    "    id SERIAL PRIMARY KEY,\n",
    "    room_id INT NOT NULL,\n",
    "    booking_period tstzrange NOT NULL,\n",
    "    EXCLUDE USING GIST (room_id WITH =, booking_period WITH &&)\n",
    ");"
   ]
  },
  {
   "cell_type": "markdown",
   "id": "eabde1fa-db8d-4b55-8af1-7b77044d77f2",
   "metadata": {},
   "source": [
    "Нельзя забронировать одну и ту же комнату на пересекающиеся временные периоды."
   ]
  },
  {
   "cell_type": "markdown",
   "id": "6abc6117-c4ec-4eb3-8732-907e9b9cc151",
   "metadata": {},
   "source": [
    "<b>Удаление ограничения<b>"
   ]
  },
  {
   "cell_type": "code",
   "execution_count": null,
   "id": "596c33af-f68f-4d28-90af-2760ad1811c7",
   "metadata": {},
   "outputs": [],
   "source": [
    "ALTER TABLE employees DROP CONSTRAINT unique_email;"
   ]
  }
 ],
 "metadata": {
  "kernelspec": {
   "display_name": "DB",
   "language": "python",
   "name": "db"
  },
  "language_info": {
   "codemirror_mode": {
    "name": "ipython",
    "version": 3
   },
   "file_extension": ".py",
   "mimetype": "text/x-python",
   "name": "python",
   "nbconvert_exporter": "python",
   "pygments_lexer": "ipython3",
   "version": "3.10.9"
  }
 },
 "nbformat": 4,
 "nbformat_minor": 5
}
