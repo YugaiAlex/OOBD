{
 "cells": [
  {
   "cell_type": "markdown",
   "id": "9f807fb7-26e8-4bf3-befa-642c9b841532",
   "metadata": {},
   "source": [
    "# Lection 3"
   ]
  },
  {
   "cell_type": "markdown",
   "id": "bdffca80-94c3-47dd-9fa5-57ba97744780",
   "metadata": {},
   "source": [
    "Ниже представлен код программы в котором производится поиск книг по заданным критериям."
   ]
  },
  {
   "cell_type": "code",
   "execution_count": null,
   "id": "ce3ce8fc-b20c-450c-a7df-98c308a0e2cd",
   "metadata": {},
   "outputs": [],
   "source": [
    "    def search_books(books_settings):\n",
    "        # Connecting to database\n",
    "        conn = psycopg2.connect(\n",
    "            database=\"Technical_Literature\",\n",
    "            user=\"postgres\",\n",
    "            host='127.0.0.1',\n",
    "            password=\"25072004\",\n",
    "            port=5432\n",
    "        )\n",
    "        cur = conn.cursor()\n",
    "\n",
    "        # quiry in case we need to make requst by all parametrs \n",
    "        query_not_all = f\"\"\"\n",
    "                SELECT books.label, books.title, books.year, aditional_information.pages\n",
    "                FROM books\n",
    "                LEFT JOIN aditional_information ON books.book_id = aditional_information.book_id\n",
    "                WHERE books.author = '{books_settings[\"Author\"]}'\n",
    "                      AND books.label = '{books_settings[\"Genre\"]}' \n",
    "                      AND books.year > {books_settings[\"Year_from\"]} \n",
    "                      AND books.year < {books_settings[\"Year_to\"]};\n",
    "                \"\"\"\n",
    "        # quiry in case we need to make request by only genre\n",
    "        query_author_all = f\"\"\"\n",
    "                SELECT books.label, books.title, books.year, aditional_information.pages\n",
    "                FROM books\n",
    "                LEFT JOIN aditional_information ON books.book_id = aditional_information.book_id\n",
    "                WHERE books.label = '{books_settings[\"Genre\"]}' \n",
    "                      AND books.year > {books_settings[\"Year_from\"]} \n",
    "                      AND books.year < {books_settings[\"Year_to\"]};\n",
    "        \"\"\"\n",
    "        # quiry in case we need to make request by only author\n",
    "        query_genre_all = f\"\"\"\n",
    "                SELECT books.label, books.title, books.year, aditional_information.pages\n",
    "                FROM books\n",
    "                LEFT JOIN aditional_information ON books.book_id = aditional_information.book_id\n",
    "                WHERE books.author = '{books_settings[\"Author\"]}' \n",
    "                      AND books.year > {books_settings[\"Year_from\"]} \n",
    "                      AND books.year < {books_settings[\"Year_to\"]};\n",
    "        \"\"\"\n",
    "        # quiry in case we don't have any parametrs \n",
    "        query_all = \"\"\"\n",
    "        SELECT books.label, books.title, books.year, aditional_information.pages\n",
    "        FROM books\n",
    "        LEFT JOIN aditional_information ON books.book_id = aditional_information.book_id;\n",
    "        \"\"\"\n",
    "\n",
    "        # checking for request parametrs \n",
    "        if books_settings[\"Author\"] == \"ALL\" and books_settings[\"Genre\"] == \"ALL\":\n",
    "            cur.execute(query_all)\n",
    "        elif books_settings[\"Author\"] == \"ALL\":\n",
    "            cur.execute(query_author_all)\n",
    "        elif books_settings[\"Genre\"] == \"ALL\":\n",
    "            cur.execute(query_genre_all)\n",
    "        else:\n",
    "            cur.execute(query_not_all)\n",
    "\n",
    "        # getting data\n",
    "        books = cur.fetchall()\n",
    "\n",
    "        # closing our database connection\n",
    "        cur.close()\n",
    "        conn.close()\n",
    "\n",
    "        # returning books\n",
    "        return books"
   ]
  },
  {
   "cell_type": "markdown",
   "id": "0ed662cf-f4e9-4ff2-93f5-83e3bf503fbb",
   "metadata": {},
   "source": [
    "Для начала рассмотрим как производится запрос в базу данных."
   ]
  },
  {
   "cell_type": "code",
   "execution_count": null,
   "id": "a2ed4142-e8a2-40c8-91c1-b57866edcf84",
   "metadata": {},
   "outputs": [],
   "source": [
    "query_not_all = f\"\"\"\n",
    "                SELECT books.label, books.title, books.year, aditional_information.pages\n",
    "                FROM books\n",
    "                LEFT JOIN aditional_information ON books.book_id = aditional_information.book_id\n",
    "                WHERE books.author = '{books_settings[\"Author\"]}'\n",
    "                      AND books.label = '{books_settings[\"Genre\"]}' \n",
    "                      AND books.year > {books_settings[\"Year_from\"]} \n",
    "                      AND books.year < {books_settings[\"Year_to\"]};\n",
    "                \"\"\""
   ]
  },
  {
   "cell_type": "markdown",
   "id": "c666b515-49b8-442a-affa-8010821230ea",
   "metadata": {},
   "source": [
    "В данном виде представлен запрос со всеми параметрами поиска в базу данных. С помощью *LEFT JOIN* мы объединяем *aditional_inforamtion* с *books*.\n",
    "Далее с помощью *WHERE* мы производим поиск всех элементов совпадающих с нашими параметрами. \n",
    "\n",
    "Из запроса *WHERE* в зависимости от того какие параметры ввел пользователь убираются не введенные параметры. "
   ]
  },
  {
   "cell_type": "code",
   "execution_count": null,
   "id": "3231dda0-4b06-4e1c-936b-51fbab24ba3c",
   "metadata": {},
   "outputs": [],
   "source": [
    "if books_settings[\"Author\"] == \"ALL\" and books_settings[\"Genre\"] == \"ALL\":\n",
    "    cur.execute(query_all)\n",
    "elif books_settings[\"Author\"] == \"ALL\":\n",
    "    cur.execute(query_author_all)\n",
    "elif books_settings[\"Genre\"] == \"ALL\":\n",
    "    cur.execute(query_genre_all)\n",
    "else:\n",
    "    cur.execute(query_not_all)"
   ]
  },
  {
   "cell_type": "markdown",
   "id": "f4654b11-ce00-4f4c-a47b-1bc18a95555c",
   "metadata": {},
   "source": [
    "В данном коде происходит проверка на введенные параметры, в зависимости от этого мы делаем запрос либо по одному из параметров, либо по всем, либо без параметров.\n",
    "\n",
    "После завершения функция возвращает результат поиска"
   ]
  },
  {
   "cell_type": "code",
   "execution_count": null,
   "id": "1d124655-c210-405e-bd0f-bf990092dd85",
   "metadata": {},
   "outputs": [],
   "source": [
    "def handle_search_results(self, books):\n",
    "    quiry = self.ids.search_quiry.text.lower()\n",
    "    pattern = r\".*\" + quiry + \".*\"\n",
    "\n",
    "    self.current_books = [[genre, title, year, pages] for genre, title, year, pages in books if re.match(pattern, title.lower())]\n",
    "    self.show_books()"
   ]
  },
  {
   "cell_type": "markdown",
   "id": "6b88c2e6-69d7-42f5-9081-fa72e781575d",
   "metadata": {},
   "source": [
    "После того как мы выполнили наш запрос данные с него попадают в данную функцию в которой с помощью регулярного выражения *re.match(pattern, title.lower())* отбираются только те данные которые соответствуют нашему запросу и записываются в переменную *self.current_books* для дальнейшего вывода на экран.\n",
    "\n",
    "В конце данная функция вызывает другую функцию *self.show_books*, которая осуществляет вывод данных на экран."
   ]
  },
  {
   "cell_type": "code",
   "execution_count": null,
   "id": "3c7ac6c1-fa1b-4700-9303-3145e67f3722",
   "metadata": {},
   "outputs": [],
   "source": [
    "def show_books(self):\n",
    "    if self.show:\n",
    "        titles = [f\"[{genre}]| {title}  {year}y.  {pages}p.\" for genre, title, year, pages in self.show]\n",
    "    else:\n",
    "        titles = [f\"[{genre}]| {title}  {year}y.  {pages}p.\" for genre, title, year, pages in self.current_books]\n",
    "    self.ids.scroll.text = \"\\n\\n\".join(titles[:275]) if titles != [] else \"Not Found\""
   ]
  },
  {
   "cell_type": "markdown",
   "id": "af334478-d40e-4265-b84e-d3e4cb273b5f",
   "metadata": {},
   "source": [
    "Данная функция выводит информацию о книгах на экран путем обновления значения text виджета Label."
   ]
  },
  {
   "cell_type": "code",
   "execution_count": null,
   "id": "630bd6ab-328c-487c-b71f-700648cd29cd",
   "metadata": {},
   "outputs": [],
   "source": [
    "    def sort_by(self):\n",
    "        mode = self.ids.sort_by.text\n",
    "\n",
    "        if \"None\" in mode:\n",
    "            self.ids.sort_by.text = \"Sort by: Year\"\n",
    "            self.show = sorted(self.current_books, key=lambda year: year[1])\n",
    "        elif \"Year\" in mode:\n",
    "            self.ids.sort_by.text = \"Sort by: Title\"\n",
    "            self.show = sorted(self.current_books, key=lambda title: title[0])\n",
    "        elif \"Title\" in mode:\n",
    "            self.ids.sort_by.text = \"Sort by: None\"\n",
    "            self.show = self.current_books\n",
    "        else:\n",
    "            print(\"Can't sort!\")\n",
    "\n",
    "        self.show_books()"
   ]
  },
  {
   "cell_type": "markdown",
   "id": "88af7e25-1405-493e-8690-d840cbef2cc1",
   "metadata": {},
   "source": [
    "Данная функция производит сортировку книг либо по году выпуска, либо по названию."
   ]
  },
  {
   "cell_type": "code",
   "execution_count": null,
   "id": "0b913398-6027-43e7-8e2f-ce2ff49159c5",
   "metadata": {},
   "outputs": [],
   "source": []
  }
 ],
 "metadata": {
  "kernelspec": {
   "display_name": "DB",
   "language": "python",
   "name": "db"
  },
  "language_info": {
   "codemirror_mode": {
    "name": "ipython",
    "version": 3
   },
   "file_extension": ".py",
   "mimetype": "text/x-python",
   "name": "python",
   "nbconvert_exporter": "python",
   "pygments_lexer": "ipython3",
   "version": "3.10.9"
  }
 },
 "nbformat": 4,
 "nbformat_minor": 5
}
